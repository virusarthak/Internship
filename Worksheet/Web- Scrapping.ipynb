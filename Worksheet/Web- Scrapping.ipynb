{
 "cells": [
  {
   "cell_type": "markdown",
   "metadata": {},
   "source": [
    "## Web scrapping using beautifulsoup"
   ]
  },
  {
   "cell_type": "code",
   "execution_count": 1,
   "metadata": {},
   "outputs": [],
   "source": [
    "import requests\n",
    "from bs4 import BeautifulSoup\n",
    "import lxml\n",
    "import html5lib"
   ]
  },
  {
   "cell_type": "markdown",
   "metadata": {},
   "source": [
    "### 1. Write a python program to display all the header tags from ‘en.wikipedia.org/wiki/Main_Page’."
   ]
  },
  {
   "cell_type": "code",
   "execution_count": 3,
   "metadata": {},
   "outputs": [],
   "source": [
    "url = \"https://en.wikipedia.org/wiki/Main_Page\"\n",
    "web_page = requests.get(url) # making request to get the page downloaded"
   ]
  },
  {
   "cell_type": "code",
   "execution_count": 4,
   "metadata": {},
   "outputs": [],
   "source": [
    "result = BeautifulSoup(web_page.text, \"html5lib\") #passing the downloaded page to beautifulSoup and parser "
   ]
  },
  {
   "cell_type": "code",
   "execution_count": 5,
   "metadata": {},
   "outputs": [],
   "source": [
    "headers= result.select(\".mw-headline\") # extracting the headers, .is used to represent the class "
   ]
  },
  {
   "cell_type": "code",
   "execution_count": 6,
   "metadata": {},
   "outputs": [],
   "source": [
    "header_name = [] # creating an empty list\n",
    "for i in headers: # running for loop to get each header from the page \n",
    "    header_name.append(i.text.replace(\"\\xa0...\",\"\")) # adding the header in the created header_name list, replaced \\xa0 with no space"
   ]
  },
  {
   "cell_type": "code",
   "execution_count": 7,
   "metadata": {},
   "outputs": [
    {
     "data": {
      "text/plain": [
       "[\"From today's featured article\",\n",
       " 'Did you know',\n",
       " 'In the news',\n",
       " 'On this day',\n",
       " \"Today's featured picture\",\n",
       " 'Other areas of Wikipedia',\n",
       " \"Wikipedia's sister projects\",\n",
       " 'Wikipedia languages']"
      ]
     },
     "execution_count": 7,
     "metadata": {},
     "output_type": "execute_result"
    }
   ],
   "source": [
    "header_name"
   ]
  },
  {
   "cell_type": "markdown",
   "metadata": {},
   "source": [
    "### 2. Write a python program to display IMDB’s Top rated 100 movies’ data (i.e. Name, IMDB rating, Year of release) and save it in form of a CSV file."
   ]
  },
  {
   "cell_type": "code",
   "execution_count": 8,
   "metadata": {},
   "outputs": [],
   "source": [
    "\"\"\"       creating 3 lists according to the ask and saving respective data into it.\n",
    "\n",
    "      running for loop from 1 to 100  and step size is 50 as we have 50 movies on one page and adding that thing with \n",
    "      link. rest we are following the same procedure \"\"\"\n",
    "\n",
    "movie_name = []\n",
    "Year = []\n",
    "Ranking = []\n",
    "for page in range(1,101,50):\n",
    "    url = \"https://www.imdb.com/search/title/?groups=top_100&sort=user_rating\" +str(page)\n",
    "    IMDB_data = requests.get(url)\n",
    "    IMDB_data_result = BeautifulSoup(IMDB_data.text, \"lxml\")\n",
    "    top_movies = IMDB_data_result.select(\".lister-item-content\")\n",
    "    \n",
    "    for i in top_movies:\n",
    "        name  = i.h3.a.text\n",
    "        movie_name.append(name)\n",
    "        \n",
    "#         saving year in year col\n",
    "        \n",
    "        year = i.h3.find(\"span\", class_ =\"lister-item-year\").text\n",
    "        Year.append(year)\n",
    "        \n",
    "#         extracting rating\n",
    "\n",
    "        rank = float(i.strong.text)\n",
    "        Ranking.append(rank)"
   ]
  },
  {
   "cell_type": "code",
   "execution_count": 9,
   "metadata": {},
   "outputs": [
    {
     "data": {
      "text/html": [
       "<div>\n",
       "<style scoped>\n",
       "    .dataframe tbody tr th:only-of-type {\n",
       "        vertical-align: middle;\n",
       "    }\n",
       "\n",
       "    .dataframe tbody tr th {\n",
       "        vertical-align: top;\n",
       "    }\n",
       "\n",
       "    .dataframe thead th {\n",
       "        text-align: right;\n",
       "    }\n",
       "</style>\n",
       "<table border=\"1\" class=\"dataframe\">\n",
       "  <thead>\n",
       "    <tr style=\"text-align: right;\">\n",
       "      <th></th>\n",
       "      <th>Movie_title</th>\n",
       "      <th>release_year</th>\n",
       "      <th>Rating</th>\n",
       "    </tr>\n",
       "  </thead>\n",
       "  <tbody>\n",
       "    <tr>\n",
       "      <th>0</th>\n",
       "      <td>Avengers: Endgame</td>\n",
       "      <td>(2019)</td>\n",
       "      <td>8.4</td>\n",
       "    </tr>\n",
       "    <tr>\n",
       "      <th>1</th>\n",
       "      <td>The Godfather</td>\n",
       "      <td>(1972)</td>\n",
       "      <td>9.2</td>\n",
       "    </tr>\n",
       "    <tr>\n",
       "      <th>2</th>\n",
       "      <td>Gisaengchung</td>\n",
       "      <td>(2019)</td>\n",
       "      <td>8.6</td>\n",
       "    </tr>\n",
       "    <tr>\n",
       "      <th>3</th>\n",
       "      <td>The Shawshank Redemption</td>\n",
       "      <td>(1994)</td>\n",
       "      <td>9.3</td>\n",
       "    </tr>\n",
       "    <tr>\n",
       "      <th>4</th>\n",
       "      <td>Avengers: Infinity War</td>\n",
       "      <td>(2018)</td>\n",
       "      <td>8.4</td>\n",
       "    </tr>\n",
       "  </tbody>\n",
       "</table>\n",
       "</div>"
      ],
      "text/plain": [
       "                Movie_title release_year  Rating\n",
       "0         Avengers: Endgame       (2019)     8.4\n",
       "1             The Godfather       (1972)     9.2\n",
       "2              Gisaengchung       (2019)     8.6\n",
       "3  The Shawshank Redemption       (1994)     9.3\n",
       "4    Avengers: Infinity War       (2018)     8.4"
      ]
     },
     "execution_count": 9,
     "metadata": {},
     "output_type": "execute_result"
    }
   ],
   "source": [
    "import pandas as pd  # importing pandas\n",
    "movie_name = pd.DataFrame(movie_name,columns= [\"Movie_title\"]) # saving extracted information into pandas dataframe\n",
    "Year = pd.DataFrame(Year,columns= [\"release_year\"])\n",
    "Ranking = pd.DataFrame(Ranking,columns= [\"Rating\"])\n",
    "\n",
    "top_100_movies = pd.concat([movie_name,Year,Ranking],axis =1) # joining all data\n",
    "top_100_movies.head()"
   ]
  },
  {
   "cell_type": "code",
   "execution_count": 10,
   "metadata": {},
   "outputs": [],
   "source": [
    "\"\"\"we have parenthesis in year column, so taking only number from it, we have two method to correct it 1 using re library and \n",
    "                            2, str.extract and applying regex \"\"\" \n",
    "\n",
    "top_100_movies[\"release_year\"] = top_100_movies[\"release_year\"].str.extract('(\\d+)') "
   ]
  },
  {
   "cell_type": "code",
   "execution_count": 11,
   "metadata": {},
   "outputs": [],
   "source": [
    "top_100_movies.to_csv(\"IMDB_Top_rated_100_movies.csv\") # saving the file"
   ]
  },
  {
   "cell_type": "markdown",
   "metadata": {},
   "source": [
    "### 3. Write a python program to display IMDB’s Top rated 100 Indian movies’ data (i.e. Name, IMDB rating, Year of release) and save it in form of a CSV file."
   ]
  },
  {
   "cell_type": "code",
   "execution_count": 12,
   "metadata": {},
   "outputs": [],
   "source": [
    "# extracting top 100 indian movie\n",
    "\n",
    "\n",
    "url = \"https://www.imdb.com/list/ls009997493/\"# page contain all 100 movies in one page\n",
    "\n",
    "load_page = requests.get(url)\n",
    "\n",
    "movies_data = BeautifulSoup(load_page.text,\"lxml\")\n",
    "\n",
    "indian_movies = movies_data.select(\".lister-item-content\")\n",
    "\n",
    "Title = []\n",
    "Year = []\n",
    "Rating = []\n",
    "\n",
    "for i in indian_movies:\n",
    "    name = i.h3.a.text # extracting movies name\n",
    "    Title.append(name)\n",
    "    \n",
    "    # extracting years\n",
    "    \n",
    "    year = i.h3.find(\"span\", class_=\"lister-item-year\").text\n",
    "    Year.append(year)\n",
    "    \n",
    "    \n",
    "    # Extracting Rating\n",
    "    \n",
    "    rank = i.find(\"span\", class_ = \"ipl-rating-star__rating\").text\n",
    "    Rating.append(rank)"
   ]
  },
  {
   "cell_type": "code",
   "execution_count": 13,
   "metadata": {},
   "outputs": [
    {
     "data": {
      "text/html": [
       "<div>\n",
       "<style scoped>\n",
       "    .dataframe tbody tr th:only-of-type {\n",
       "        vertical-align: middle;\n",
       "    }\n",
       "\n",
       "    .dataframe tbody tr th {\n",
       "        vertical-align: top;\n",
       "    }\n",
       "\n",
       "    .dataframe thead th {\n",
       "        text-align: right;\n",
       "    }\n",
       "</style>\n",
       "<table border=\"1\" class=\"dataframe\">\n",
       "  <thead>\n",
       "    <tr style=\"text-align: right;\">\n",
       "      <th></th>\n",
       "      <th>Movie</th>\n",
       "      <th>Released_year</th>\n",
       "      <th>Ranking</th>\n",
       "    </tr>\n",
       "  </thead>\n",
       "  <tbody>\n",
       "    <tr>\n",
       "      <th>0</th>\n",
       "      <td>Rang De Basanti</td>\n",
       "      <td>(2006)</td>\n",
       "      <td>8.1</td>\n",
       "    </tr>\n",
       "    <tr>\n",
       "      <th>1</th>\n",
       "      <td>3 Idiots</td>\n",
       "      <td>(2009)</td>\n",
       "      <td>8.4</td>\n",
       "    </tr>\n",
       "    <tr>\n",
       "      <th>2</th>\n",
       "      <td>Taare Zameen Par</td>\n",
       "      <td>(2007)</td>\n",
       "      <td>8.4</td>\n",
       "    </tr>\n",
       "    <tr>\n",
       "      <th>3</th>\n",
       "      <td>Dil Chahta Hai</td>\n",
       "      <td>(2001)</td>\n",
       "      <td>8.1</td>\n",
       "    </tr>\n",
       "    <tr>\n",
       "      <th>4</th>\n",
       "      <td>Swades: We, the People</td>\n",
       "      <td>(2004)</td>\n",
       "      <td>8.2</td>\n",
       "    </tr>\n",
       "  </tbody>\n",
       "</table>\n",
       "</div>"
      ],
      "text/plain": [
       "                    Movie Released_year Ranking\n",
       "0         Rang De Basanti        (2006)     8.1\n",
       "1                3 Idiots        (2009)     8.4\n",
       "2        Taare Zameen Par        (2007)     8.4\n",
       "3          Dil Chahta Hai        (2001)     8.1\n",
       "4  Swades: We, the People        (2004)     8.2"
      ]
     },
     "execution_count": 13,
     "metadata": {},
     "output_type": "execute_result"
    }
   ],
   "source": [
    "ind_movie = pd.DataFrame({\"Movie\":Title,\"Released_year\":Year,\"Ranking\":Rating})\n",
    "ind_movie.head()"
   ]
  },
  {
   "cell_type": "code",
   "execution_count": 14,
   "metadata": {},
   "outputs": [
    {
     "data": {
      "text/html": [
       "<div>\n",
       "<style scoped>\n",
       "    .dataframe tbody tr th:only-of-type {\n",
       "        vertical-align: middle;\n",
       "    }\n",
       "\n",
       "    .dataframe tbody tr th {\n",
       "        vertical-align: top;\n",
       "    }\n",
       "\n",
       "    .dataframe thead th {\n",
       "        text-align: right;\n",
       "    }\n",
       "</style>\n",
       "<table border=\"1\" class=\"dataframe\">\n",
       "  <thead>\n",
       "    <tr style=\"text-align: right;\">\n",
       "      <th></th>\n",
       "      <th>Movie</th>\n",
       "      <th>Released_year</th>\n",
       "      <th>Ranking</th>\n",
       "    </tr>\n",
       "  </thead>\n",
       "  <tbody>\n",
       "    <tr>\n",
       "      <th>0</th>\n",
       "      <td>Rang De Basanti</td>\n",
       "      <td>2006</td>\n",
       "      <td>8.1</td>\n",
       "    </tr>\n",
       "    <tr>\n",
       "      <th>1</th>\n",
       "      <td>3 Idiots</td>\n",
       "      <td>2009</td>\n",
       "      <td>8.4</td>\n",
       "    </tr>\n",
       "    <tr>\n",
       "      <th>2</th>\n",
       "      <td>Taare Zameen Par</td>\n",
       "      <td>2007</td>\n",
       "      <td>8.4</td>\n",
       "    </tr>\n",
       "    <tr>\n",
       "      <th>3</th>\n",
       "      <td>Dil Chahta Hai</td>\n",
       "      <td>2001</td>\n",
       "      <td>8.1</td>\n",
       "    </tr>\n",
       "    <tr>\n",
       "      <th>4</th>\n",
       "      <td>Swades: We, the People</td>\n",
       "      <td>2004</td>\n",
       "      <td>8.2</td>\n",
       "    </tr>\n",
       "  </tbody>\n",
       "</table>\n",
       "</div>"
      ],
      "text/plain": [
       "                    Movie Released_year Ranking\n",
       "0         Rang De Basanti          2006     8.1\n",
       "1                3 Idiots          2009     8.4\n",
       "2        Taare Zameen Par          2007     8.4\n",
       "3          Dil Chahta Hai          2001     8.1\n",
       "4  Swades: We, the People          2004     8.2"
      ]
     },
     "execution_count": 14,
     "metadata": {},
     "output_type": "execute_result"
    }
   ],
   "source": [
    "ind_movie[\"Released_year\"] = ind_movie[\"Released_year\"].str.extract('(\\d+)') # clening the year columns\n",
    "ind_movie.head()"
   ]
  },
  {
   "cell_type": "code",
   "execution_count": 15,
   "metadata": {},
   "outputs": [],
   "source": [
    "ind_movie.to_csv(\"top_100_indian_movies.csv\")"
   ]
  },
  {
   "cell_type": "markdown",
   "metadata": {},
   "source": [
    "### 4. Write a python program to scrap book name, author name, genre and book review of any 5 books from ‘www.bookpage.com"
   ]
  },
  {
   "cell_type": "code",
   "execution_count": 16,
   "metadata": {},
   "outputs": [],
   "source": [
    "# saving the URL in url variable \n",
    "url = \"https://bookpage.com/reviews\"\n",
    "\n",
    "load_page = requests.get(url) # making request to load the page \n",
    "\n",
    "result = BeautifulSoup(load_page.text,\"lxml\") # passing the loaded page to beautiful and parser engien  \n",
    "\n",
    "\n"
   ]
  },
  {
   "cell_type": "code",
   "execution_count": 17,
   "metadata": {},
   "outputs": [],
   "source": [
    "book1 = result.select(\".bp-block.article-info\") # selecting all the book from a page, it has 10 book\n",
    "\n",
    "## Running a for loop for get book name one by one from the mentioned class and saving them into book.  \n",
    "book = []  \n",
    "for i in book1:\n",
    "    book_name = i.h4.a.text\n",
    "    book.append(book_name)\n",
    "    \n",
    "## as i mentioned that we have 10 different books and our requirement is only 5 so taking only first 5 books by slicing   \n",
    "book = book[:5] "
   ]
  },
  {
   "cell_type": "code",
   "execution_count": 18,
   "metadata": {},
   "outputs": [
    {
     "data": {
      "text/plain": [
       "[' ★ Facing the Mountain',\n",
       " 'Lucky Girl',\n",
       " ' ★ On Juneteenth',\n",
       " 'Pawcasso',\n",
       " 'The Most Beautiful Girl in Cuba']"
      ]
     },
     "execution_count": 18,
     "metadata": {},
     "output_type": "execute_result"
    }
   ],
   "source": [
    "book"
   ]
  },
  {
   "cell_type": "code",
   "execution_count": 19,
   "metadata": {},
   "outputs": [],
   "source": [
    "# selecting all the genre from a page\n",
    "\n",
    "genre = result.select(\".genre-links.hidden-phone\")\n",
    "\n",
    "## Running a for loop for get book genre one by one from the mentioned class and saving them into book_renre.\n",
    "\n",
    "book_genre = []\n",
    "for i in genre:\n",
    "    book_genre.append(i.text.replace(\"\\n\",\"\"))\n",
    "    \n",
    "\n",
    "## as i mentioned that we have 10 different books and our requirement is only 5 so taking only first 5 by slicing   \n",
    "    \n",
    "book_genre = book_genre[:5] "
   ]
  },
  {
   "cell_type": "code",
   "execution_count": 20,
   "metadata": {},
   "outputs": [],
   "source": [
    "# selecting all the authors from a page\n",
    "\n",
    "author = result.select(\".sans.bold\")\n",
    "\n",
    "## Running a for loop for get book author name one by one from the mentioned class and saving them into book_author_name.\n",
    "\n",
    "book_author_name =[]\n",
    "\n",
    "for i in author:\n",
    "    book_author_name.append(i.text.replace(\"\\n\",\"\"))\n",
    "    \n",
    "\n",
    "## as i mentioned that we have 10 different books and our requirement is only 5 so taking only first 5  by slicing   \n",
    " \n",
    "book_author_name = book_author_name[:5]"
   ]
  },
  {
   "cell_type": "code",
   "execution_count": 21,
   "metadata": {
    "scrolled": true
   },
   "outputs": [
    {
     "data": {
      "text/plain": [
       "['Most of the Japanese American patriots who formed the 442nd Infantry Regiment are gone, but their stories live on in this empathetic tribute to their courage.',\n",
       " '',\n",
       " 'Gordon-Reed’s essays seamlessly merge history, memoir and family history into a complex portrait of her beloved, turbulent Texas.',\n",
       " '',\n",
       " 'Chanel Cleeton delivers a sweeping story of love and courage, as well as a sobering reminder of the power and responsibility of the media.']"
      ]
     },
     "execution_count": 21,
     "metadata": {},
     "output_type": "execute_result"
    }
   ],
   "source": [
    "# selecting all the review from a page\n",
    "reviews=  result.select(\".excerpt\")\n",
    "\n",
    "## Running a for loop for get book review one by one from the mentioned class and saving them into Reviews.\n",
    "\n",
    "Reviews = []\n",
    "for i in reviews:\n",
    "    Review =i.text.strip()\n",
    "    Reviews.append(Review)\n",
    "    \n",
    "## as i mentioned that we have 10 different books and our requirement is only 5 so taking only first 5  by slicing   \n",
    "\n",
    "book_review = Reviews[:5]\n",
    "book_review"
   ]
  },
  {
   "cell_type": "code",
   "execution_count": 24,
   "metadata": {},
   "outputs": [
    {
     "data": {
      "text/html": [
       "<div>\n",
       "<style scoped>\n",
       "    .dataframe tbody tr th:only-of-type {\n",
       "        vertical-align: middle;\n",
       "    }\n",
       "\n",
       "    .dataframe tbody tr th {\n",
       "        vertical-align: top;\n",
       "    }\n",
       "\n",
       "    .dataframe thead th {\n",
       "        text-align: right;\n",
       "    }\n",
       "</style>\n",
       "<table border=\"1\" class=\"dataframe\">\n",
       "  <thead>\n",
       "    <tr style=\"text-align: right;\">\n",
       "      <th></th>\n",
       "      <th>book</th>\n",
       "      <th>book_genre</th>\n",
       "      <th>book_author_name</th>\n",
       "      <th>book_review</th>\n",
       "    </tr>\n",
       "  </thead>\n",
       "  <tbody>\n",
       "    <tr>\n",
       "      <th>0</th>\n",
       "      <td>★ Facing the Mountain</td>\n",
       "      <td>Nonfiction / History / American History</td>\n",
       "      <td>Daniel James Brown</td>\n",
       "      <td>Most of the Japanese American patriots who for...</td>\n",
       "    </tr>\n",
       "    <tr>\n",
       "      <th>1</th>\n",
       "      <td>Lucky Girl</td>\n",
       "      <td>YA Fiction / YA</td>\n",
       "      <td>Jamie Pacton</td>\n",
       "      <td></td>\n",
       "    </tr>\n",
       "    <tr>\n",
       "      <th>2</th>\n",
       "      <td>★ On Juneteenth</td>\n",
       "      <td>Nonfiction / History / American History</td>\n",
       "      <td>Annette Gordon-Reed</td>\n",
       "      <td>Gordon-Reed’s essays seamlessly merge history,...</td>\n",
       "    </tr>\n",
       "    <tr>\n",
       "      <th>3</th>\n",
       "      <td>Pawcasso</td>\n",
       "      <td>Children's / Middle Grade</td>\n",
       "      <td>Remy Lai</td>\n",
       "      <td></td>\n",
       "    </tr>\n",
       "    <tr>\n",
       "      <th>4</th>\n",
       "      <td>The Most Beautiful Girl in Cuba</td>\n",
       "      <td>Fiction / Historical Fiction</td>\n",
       "      <td>Chanel Cleeton</td>\n",
       "      <td>Chanel Cleeton delivers a sweeping story of lo...</td>\n",
       "    </tr>\n",
       "  </tbody>\n",
       "</table>\n",
       "</div>"
      ],
      "text/plain": [
       "                              book                               book_genre  \\\n",
       "0            ★ Facing the Mountain  Nonfiction / History / American History   \n",
       "1                       Lucky Girl                          YA Fiction / YA   \n",
       "2                  ★ On Juneteenth  Nonfiction / History / American History   \n",
       "3                         Pawcasso                Children's / Middle Grade   \n",
       "4  The Most Beautiful Girl in Cuba             Fiction / Historical Fiction   \n",
       "\n",
       "      book_author_name                                        book_review  \n",
       "0   Daniel James Brown  Most of the Japanese American patriots who for...  \n",
       "1         Jamie Pacton                                                     \n",
       "2  Annette Gordon-Reed  Gordon-Reed’s essays seamlessly merge history,...  \n",
       "3             Remy Lai                                                     \n",
       "4       Chanel Cleeton  Chanel Cleeton delivers a sweeping story of lo...  "
      ]
     },
     "execution_count": 24,
     "metadata": {},
     "output_type": "execute_result"
    }
   ],
   "source": [
    "# creating dataframe\n",
    "\n",
    "book_dict = {\"book\":book,\"book_genre\":book_genre,\"book_author_name\":book_author_name,\"book_review\":book_review}\n",
    "book_df = pd.DataFrame(book_dict)\n",
    "book_df.head()"
   ]
  },
  {
   "cell_type": "markdown",
   "metadata": {},
   "source": [
    "## 5 Write a python program to scrape cricket rankings from ‘www.icc-cricket.com’. You have to scrape:\n",
    "i) Top 10 ODI teams in men’s cricket along with the records for matches, points and \n",
    "rating. <br>\n",
    "ii) Top 10 ODI Batsmen in men along with the records of their team and rating.<br>\n",
    "iii)Top 10 ODI bowlers along with the records of their team and rating."
   ]
  },
  {
   "cell_type": "markdown",
   "metadata": {},
   "source": [
    "#### i) Top 10 ODI teams in men’s cricket along with the records for matches, points and rating."
   ]
  },
  {
   "cell_type": "code",
   "execution_count": 25,
   "metadata": {},
   "outputs": [],
   "source": [
    " # loading page \n",
    "\n",
    "page_load_ODI = requests.get(\"https://www.icc-cricket.com/rankings/mens/team-rankings/odi\")\n",
    "\n",
    "# passing the loaded page to beautiful and parser engien \n",
    "soup_ODI = BeautifulSoup(page_load_ODI.text,\"html5lib\")"
   ]
  },
  {
   "cell_type": "code",
   "execution_count": 26,
   "metadata": {
    "scrolled": true
   },
   "outputs": [],
   "source": [
    "\"\"\" Extracting team name from the this, names are avilable under u-hide-phablet class. DOT(.) is represent the class when\n",
    "we use select \"\"\"\n",
    "\n",
    "team_name = []\n",
    "for i in soup_ODI.select(\".u-hide-phablet\"):\n",
    "    team_name.append(i.text)\n",
    "    \n",
    "# while extracting the name, i have found couple of blank rows also, so sliced on filled one.\n",
    "    \n",
    "team_name = team_name[:20]"
   ]
  },
  {
   "cell_type": "code",
   "execution_count": 27,
   "metadata": {},
   "outputs": [],
   "source": [
    "\"\"\"very important\n",
    "   first rows of number one team's matches, points and rating tags are differrent and for other rest of the team tag are same\n",
    "    thus i had to extract these information seprately. i will add them into final list later on  \"\"\" \n",
    "\n",
    "# Number of matches\n",
    "First_matches = soup_ODI.find(\"td\",class_=\"rankings-block__banner--matches\").text\n",
    "\n",
    "# Points\n",
    "\n",
    "First_team_point = soup_ODI.find(\"td\",class_=\"rankings-block__banner--points\").text\n",
    "\n",
    "# Rating\n",
    "\n",
    "First_rating =soup_ODI.find(\"td\",class_= \"rankings-block__banner--rating u-text-right\").text.replace(\"\\n\",\"\").strip()"
   ]
  },
  {
   "cell_type": "code",
   "execution_count": 28,
   "metadata": {},
   "outputs": [
    {
     "data": {
      "text/plain": [
       "['17',\n",
       " '25',\n",
       " '29',\n",
       " '27',\n",
       " '20',\n",
       " '24',\n",
       " '24',\n",
       " '27',\n",
       " '21',\n",
       " '17',\n",
       " '2',\n",
       " '18',\n",
       " '15',\n",
       " '7',\n",
       " '5',\n",
       " '5',\n",
       " '9',\n",
       " '6',\n",
       " '8',\n",
       " '5']"
      ]
     },
     "execution_count": 28,
     "metadata": {},
     "output_type": "execute_result"
    }
   ],
   "source": [
    "\"\"\" Extracting point and rating both, both have same tag thus, later on i will seprate them by using slicing\n",
    "\"\"\" \n",
    "\n",
    "match = soup_ODI.select(\".table-body__cell.u-center-text\")\n",
    "Record_for_matches = []\n",
    "for i in match:\n",
    "    Record_for_matches.append(i.text)\n",
    "    \n",
    "\"\"\" saving matches into Matches variable, out Record_for_matches list is like 0 index is match count and 1 index is for point.\n",
    "\n",
    "            so i have sliced accoridnly \"\"\"\n",
    "Matches = Record_for_matches[::2]\n",
    "\n",
    "# inserting the first team match count at 0 index because first team is at 0 index so that it matches\n",
    "\n",
    "Matches.insert(0,First_matches)\n",
    "Matches"
   ]
  },
  {
   "cell_type": "code",
   "execution_count": 29,
   "metadata": {},
   "outputs": [],
   "source": [
    "# matches points starts from 1st index in record_for_matches thus i have sliced accordingly\n",
    "\n",
    "points = Record_for_matches[1::2]\n",
    "# inserting the first team points at 0 index because first team is at 0 index so that it matches\n",
    "\n",
    "points.insert(0,First_team_point)"
   ]
  },
  {
   "cell_type": "code",
   "execution_count": 30,
   "metadata": {
    "scrolled": true
   },
   "outputs": [],
   "source": [
    "# Extracting the rating from it.\n",
    "\n",
    "rank = soup_ODI.select(\".table-body__cell.u-text-right.rating\")\n",
    "Rating = []\n",
    "for i in rank:\n",
    "    Rating.append(i.text)\n",
    "    \n",
    "# inserting the first team rating at 0 index because first team is at 0 index so that it matches\n",
    "\n",
    "Rating.insert(0,First_rating)\n"
   ]
  },
  {
   "cell_type": "code",
   "execution_count": 32,
   "metadata": {},
   "outputs": [
    {
     "data": {
      "text/html": [
       "<div>\n",
       "<style scoped>\n",
       "    .dataframe tbody tr th:only-of-type {\n",
       "        vertical-align: middle;\n",
       "    }\n",
       "\n",
       "    .dataframe tbody tr th {\n",
       "        vertical-align: top;\n",
       "    }\n",
       "\n",
       "    .dataframe thead th {\n",
       "        text-align: right;\n",
       "    }\n",
       "</style>\n",
       "<table border=\"1\" class=\"dataframe\">\n",
       "  <thead>\n",
       "    <tr style=\"text-align: right;\">\n",
       "      <th></th>\n",
       "      <th>team_name</th>\n",
       "      <th>Matches</th>\n",
       "      <th>points</th>\n",
       "      <th>Rating</th>\n",
       "    </tr>\n",
       "  </thead>\n",
       "  <tbody>\n",
       "    <tr>\n",
       "      <th>0</th>\n",
       "      <td>New Zealand</td>\n",
       "      <td>17</td>\n",
       "      <td>2,054</td>\n",
       "      <td>121</td>\n",
       "    </tr>\n",
       "    <tr>\n",
       "      <th>1</th>\n",
       "      <td>Australia</td>\n",
       "      <td>25</td>\n",
       "      <td>2,945</td>\n",
       "      <td>118</td>\n",
       "    </tr>\n",
       "    <tr>\n",
       "      <th>2</th>\n",
       "      <td>India</td>\n",
       "      <td>29</td>\n",
       "      <td>3,344</td>\n",
       "      <td>115</td>\n",
       "    </tr>\n",
       "    <tr>\n",
       "      <th>3</th>\n",
       "      <td>England</td>\n",
       "      <td>27</td>\n",
       "      <td>3,100</td>\n",
       "      <td>115</td>\n",
       "    </tr>\n",
       "    <tr>\n",
       "      <th>4</th>\n",
       "      <td>South Africa</td>\n",
       "      <td>20</td>\n",
       "      <td>2,137</td>\n",
       "      <td>107</td>\n",
       "    </tr>\n",
       "  </tbody>\n",
       "</table>\n",
       "</div>"
      ],
      "text/plain": [
       "      team_name Matches points Rating\n",
       "0   New Zealand      17  2,054    121\n",
       "1     Australia      25  2,945    118\n",
       "2         India      29  3,344    115\n",
       "3       England      27  3,100    115\n",
       "4  South Africa      20  2,137    107"
      ]
     },
     "execution_count": 32,
     "metadata": {},
     "output_type": "execute_result"
    }
   ],
   "source": [
    "# creating dataframe\n",
    "\n",
    "Match_dict = {\"team_name\":team_name,\"Matches\":Matches,\"points\":points,\"Rating\":Rating}\n",
    "Match_df = pd.DataFrame(Match_dict)\n",
    "Match_df.head()"
   ]
  },
  {
   "cell_type": "markdown",
   "metadata": {},
   "source": [
    "### ii) Top 10 ODI Batsmen in men along with the records of their team and rating"
   ]
  },
  {
   "cell_type": "code",
   "execution_count": 34,
   "metadata": {},
   "outputs": [],
   "source": [
    "# requesting to upload page\n",
    "\n",
    "url = \"https://www.icc-cricket.com/rankings/mens/player-rankings/odi/batting\"\n",
    "ODI_bats_page = requests.get(url) \n",
    "\n",
    "# pasing loaded page through beautifulsoup and html parser engien\n",
    "\n",
    "ODI_bats_soup = BeautifulSoup(ODI_bats_page.text,\"lxml\")\n"
   ]
  },
  {
   "cell_type": "code",
   "execution_count": 35,
   "metadata": {},
   "outputs": [],
   "source": [
    "# batsman who is at no.1 position, his tag is different than others so that is why i am extracting it single\n",
    "first_batsman_name = ODI_bats_soup.find(\"div\",class_ =\"rankings-block__banner--name-large\").text"
   ]
  },
  {
   "cell_type": "code",
   "execution_count": 36,
   "metadata": {},
   "outputs": [
    {
     "data": {
      "text/plain": [
       "'Babar Azam'"
      ]
     },
     "execution_count": 36,
     "metadata": {},
     "output_type": "execute_result"
    }
   ],
   "source": [
    "first_batsman_name"
   ]
  },
  {
   "cell_type": "code",
   "execution_count": 37,
   "metadata": {},
   "outputs": [],
   "source": [
    "# extracting first batsman team\n",
    "\n",
    "first_batsman_team = ODI_bats_soup.find(\"div\", class_=\"rankings-block__banner--nationality\").text.replace(\"\\n\",\"\")"
   ]
  },
  {
   "cell_type": "code",
   "execution_count": 38,
   "metadata": {},
   "outputs": [
    {
     "data": {
      "text/plain": [
       "'PAK                    '"
      ]
     },
     "execution_count": 38,
     "metadata": {},
     "output_type": "execute_result"
    }
   ],
   "source": [
    "first_batsman_team"
   ]
  },
  {
   "cell_type": "code",
   "execution_count": 39,
   "metadata": {},
   "outputs": [],
   "source": [
    "# extracting first batsman Ranking\n",
    "\n",
    "first_bats_Ranking = ODI_bats_soup.find(\"div\", class_=\"rankings-block__banner--rating\").text.replace(\"\\n\",\"\")"
   ]
  },
  {
   "cell_type": "code",
   "execution_count": 40,
   "metadata": {},
   "outputs": [
    {
     "data": {
      "text/plain": [
       "'865'"
      ]
     },
     "execution_count": 40,
     "metadata": {},
     "output_type": "execute_result"
    }
   ],
   "source": [
    "first_bats_Ranking"
   ]
  },
  {
   "cell_type": "code",
   "execution_count": 41,
   "metadata": {},
   "outputs": [],
   "source": [
    "# extracting other player name \n",
    "\n",
    "player = ODI_bats_soup.select(\".table-body__cell.rankings-table__name.name\")\n",
    "\n",
    "player_name = []\n",
    "for i in player:\n",
    "    name = i.text.replace(\"\\n\",\"\")\n",
    "    player_name.append(name)"
   ]
  },
  {
   "cell_type": "code",
   "execution_count": 42,
   "metadata": {},
   "outputs": [
    {
     "data": {
      "text/plain": [
       "['Babar Azam',\n",
       " 'Virat Kohli',\n",
       " 'Rohit Sharma',\n",
       " 'Ross Taylor',\n",
       " 'Aaron Finch',\n",
       " 'Jonny Bairstow',\n",
       " 'Fakhar Zaman',\n",
       " 'Francois du Plessis',\n",
       " 'David Warner',\n",
       " 'Shai Hope']"
      ]
     },
     "execution_count": 42,
     "metadata": {},
     "output_type": "execute_result"
    }
   ],
   "source": [
    "top_10_player_name = player_name[:9] # it gives entire list of player and our requirement in top 10\n",
    "top_10_player_name.insert(0,first_batsman_name) # adding first player name in the list at 0 index position \n",
    "top_10_player_name"
   ]
  },
  {
   "cell_type": "code",
   "execution_count": 43,
   "metadata": {},
   "outputs": [
    {
     "data": {
      "text/plain": [
       "['PAK                    ',\n",
       " 'IND',\n",
       " 'IND',\n",
       " 'NZ',\n",
       " 'AUS',\n",
       " 'ENG',\n",
       " 'PAK',\n",
       " 'SA',\n",
       " 'AUS',\n",
       " 'WI']"
      ]
     },
     "execution_count": 43,
     "metadata": {},
     "output_type": "execute_result"
    }
   ],
   "source": [
    "# extracting the team name from the this mentioned class\n",
    "teams = ODI_bats_soup.select(\".table-body__logo-text\")\n",
    "\n",
    "teams_name = []\n",
    "for i in teams:\n",
    "    team = i.text\n",
    "    teams_name.append(team)\n",
    "player_team_name = teams_name[:9] # it gives entire list of player and our requirement in top 10\n",
    "player_team_name.insert(0,first_batsman_team)\n",
    "player_team_name"
   ]
  },
  {
   "cell_type": "code",
   "execution_count": 44,
   "metadata": {
    "scrolled": true
   },
   "outputs": [
    {
     "data": {
      "text/plain": [
       "['865', '857', '825', '801', '791', '785', '778', '778', '773', '773']"
      ]
     },
     "execution_count": 44,
     "metadata": {},
     "output_type": "execute_result"
    }
   ],
   "source": [
    "# extracting the ranking of the player from the this mentioned class\n",
    "Rating = ODI_bats_soup.select(\".table-body__cell.rating\")\n",
    "\n",
    "#using list comprehension for extracting ranking one by one\n",
    "teams_rating = [i.text for i in Rating] \n",
    "\n",
    " # it gives entire list of player and our requirement in top 10\n",
    "player_team_rating = teams_rating[:9]\n",
    "\n",
    "# inserting first batsman rating in the list\n",
    "\n",
    "player_team_rating.insert(0,first_bats_Ranking)\n",
    "\n",
    "# priting the same \n",
    "player_team_rating"
   ]
  },
  {
   "cell_type": "code",
   "execution_count": 45,
   "metadata": {},
   "outputs": [
    {
     "data": {
      "text/html": [
       "<div>\n",
       "<style scoped>\n",
       "    .dataframe tbody tr th:only-of-type {\n",
       "        vertical-align: middle;\n",
       "    }\n",
       "\n",
       "    .dataframe tbody tr th {\n",
       "        vertical-align: top;\n",
       "    }\n",
       "\n",
       "    .dataframe thead th {\n",
       "        text-align: right;\n",
       "    }\n",
       "</style>\n",
       "<table border=\"1\" class=\"dataframe\">\n",
       "  <thead>\n",
       "    <tr style=\"text-align: right;\">\n",
       "      <th></th>\n",
       "      <th>top_10_player_name</th>\n",
       "      <th>player_team_name</th>\n",
       "      <th>player_team_rating</th>\n",
       "    </tr>\n",
       "  </thead>\n",
       "  <tbody>\n",
       "    <tr>\n",
       "      <th>0</th>\n",
       "      <td>Babar Azam</td>\n",
       "      <td>PAK</td>\n",
       "      <td>865</td>\n",
       "    </tr>\n",
       "    <tr>\n",
       "      <th>1</th>\n",
       "      <td>Virat Kohli</td>\n",
       "      <td>IND</td>\n",
       "      <td>857</td>\n",
       "    </tr>\n",
       "    <tr>\n",
       "      <th>2</th>\n",
       "      <td>Rohit Sharma</td>\n",
       "      <td>IND</td>\n",
       "      <td>825</td>\n",
       "    </tr>\n",
       "    <tr>\n",
       "      <th>3</th>\n",
       "      <td>Ross Taylor</td>\n",
       "      <td>NZ</td>\n",
       "      <td>801</td>\n",
       "    </tr>\n",
       "    <tr>\n",
       "      <th>4</th>\n",
       "      <td>Aaron Finch</td>\n",
       "      <td>AUS</td>\n",
       "      <td>791</td>\n",
       "    </tr>\n",
       "  </tbody>\n",
       "</table>\n",
       "</div>"
      ],
      "text/plain": [
       "  top_10_player_name         player_team_name player_team_rating\n",
       "0         Babar Azam  PAK                                    865\n",
       "1        Virat Kohli                      IND                857\n",
       "2       Rohit Sharma                      IND                825\n",
       "3        Ross Taylor                       NZ                801\n",
       "4        Aaron Finch                      AUS                791"
      ]
     },
     "execution_count": 45,
     "metadata": {},
     "output_type": "execute_result"
    }
   ],
   "source": [
    "# creating dataframe\n",
    "batsman_dict = {\"top_10_player_name\":top_10_player_name,\"player_team_name\":player_team_name,\"player_team_rating\":player_team_rating}\n",
    "batsman_df = pd.DataFrame(batsman_dict)\n",
    "batsman_df.head()"
   ]
  },
  {
   "cell_type": "markdown",
   "metadata": {},
   "source": [
    "### iii)Top 10 ODI bowlers along with the records of their team and rating."
   ]
  },
  {
   "cell_type": "code",
   "execution_count": 47,
   "metadata": {},
   "outputs": [],
   "source": [
    "# requesting to upload bowler page\n",
    "\n",
    "url = \"https://www.icc-cricket.com/rankings/mens/player-rankings/odi/bowling\"\n",
    "ODI_bowl_page = requests.get(url) \n",
    "\n",
    "# pasing loaded page through beautifulsoup and html parser engien\n",
    "\n",
    "ODI_bowl_soup = BeautifulSoup(ODI_bowl_page.text,\"lxml\")"
   ]
  },
  {
   "cell_type": "code",
   "execution_count": 48,
   "metadata": {},
   "outputs": [
    {
     "data": {
      "text/plain": [
       "'Trent Boult'"
      ]
     },
     "execution_count": 48,
     "metadata": {},
     "output_type": "execute_result"
    }
   ],
   "source": [
    "# Bowler who is at no.1 position, his tag is different than others so that is why i am extracting it single\n",
    "first_Bowler_name = ODI_bowl_soup.find(\"div\",class_ =\"rankings-block__banner--name-large\").text\n",
    "first_Bowler_name"
   ]
  },
  {
   "cell_type": "code",
   "execution_count": 49,
   "metadata": {},
   "outputs": [
    {
     "data": {
      "text/plain": [
       "'NZ                    '"
      ]
     },
     "execution_count": 49,
     "metadata": {},
     "output_type": "execute_result"
    }
   ],
   "source": [
    "# extracting first bowler team\n",
    "\n",
    "first_bowler_team = ODI_bowl_soup.find(\"div\", class_=\"rankings-block__banner--nationality\").text.replace(\"\\n\",\"\")\n",
    "first_bowler_team"
   ]
  },
  {
   "cell_type": "code",
   "execution_count": 50,
   "metadata": {},
   "outputs": [
    {
     "data": {
      "text/plain": [
       "'737'"
      ]
     },
     "execution_count": 50,
     "metadata": {},
     "output_type": "execute_result"
    }
   ],
   "source": [
    "# extracting first batsman Ranking\n",
    "\n",
    "first_bowler_Ranking = ODI_bowl_soup.find(\"div\", class_=\"rankings-block__banner--rating\").text.replace(\"\\n\",\"\")\n",
    "first_bowler_Ranking"
   ]
  },
  {
   "cell_type": "code",
   "execution_count": 51,
   "metadata": {},
   "outputs": [
    {
     "data": {
      "text/plain": [
       "['Trent Boult',\n",
       " 'Mujeeb Ur Rahman',\n",
       " 'Matt Henry',\n",
       " 'Jasprit Bumrah',\n",
       " 'Mehedi Hasan',\n",
       " 'Kagiso Rabada',\n",
       " 'Chris Woakes',\n",
       " 'Josh Hazlewood',\n",
       " 'Pat Cummins',\n",
       " 'Mohammad Amir']"
      ]
     },
     "execution_count": 51,
     "metadata": {},
     "output_type": "execute_result"
    }
   ],
   "source": [
    "# extracting other player name \n",
    "\n",
    "bowler = ODI_bowl_soup.select(\".table-body__cell.rankings-table__name.name\")\n",
    "\n",
    "bowler_name = []\n",
    "for i in bowler:\n",
    "    name = i.text.replace(\"\\n\",\"\")\n",
    "    bowler_name.append(name)\n",
    "top_10_bowler_name = bowler_name[:9] # it gives entire list of player and our requirement in top 10\n",
    "top_10_bowler_name.insert(0,first_Bowler_name) # adding first player name in the list at 0 index position \n",
    "top_10_bowler_name"
   ]
  },
  {
   "cell_type": "code",
   "execution_count": 52,
   "metadata": {},
   "outputs": [
    {
     "data": {
      "text/plain": [
       "['NZ                    ',\n",
       " 'AFG',\n",
       " 'NZ',\n",
       " 'IND',\n",
       " 'BAN',\n",
       " 'SA',\n",
       " 'ENG',\n",
       " 'AUS',\n",
       " 'AUS',\n",
       " 'PAK']"
      ]
     },
     "execution_count": 52,
     "metadata": {},
     "output_type": "execute_result"
    }
   ],
   "source": [
    "# extracting the team name from the this mentioned class\n",
    "bowler_teams = ODI_bowl_soup.select(\".table-body__logo-text\")\n",
    "\n",
    "bowler_teams_name = []\n",
    "for i in bowler_teams:\n",
    "    bowlteam = i.text\n",
    "    bowler_teams_name.append(bowlteam)\n",
    "bowl_team_name = bowler_teams_name[:9] # it gives entire list of player and our requirement in top 10\n",
    "bowl_team_name.insert(0,first_bowler_team)\n",
    "bowl_team_name"
   ]
  },
  {
   "cell_type": "code",
   "execution_count": 53,
   "metadata": {},
   "outputs": [
    {
     "data": {
      "text/plain": [
       "['737', '708', '691', '690', '668', '666', '665', '660', '646', '638']"
      ]
     },
     "execution_count": 53,
     "metadata": {},
     "output_type": "execute_result"
    }
   ],
   "source": [
    "# extracting the ranking of the player from the this mentioned class\n",
    "bowlRating = ODI_bowl_soup.select(\".table-body__cell.rating\")\n",
    "\n",
    "#using list comprehension for extracting ranking one by one\n",
    "bowl_rating = [i.text for i in bowlRating] \n",
    "\n",
    " # it gives entire list of player and our requirement in top 10\n",
    "bowl_team_rating = bowl_rating[:9]\n",
    "\n",
    "# inserting first batsman rating in the list\n",
    "\n",
    "bowl_team_rating.insert(0,first_bowler_Ranking)\n",
    "\n",
    "# priting the same \n",
    "bowl_team_rating"
   ]
  },
  {
   "cell_type": "code",
   "execution_count": 54,
   "metadata": {},
   "outputs": [
    {
     "data": {
      "text/html": [
       "<div>\n",
       "<style scoped>\n",
       "    .dataframe tbody tr th:only-of-type {\n",
       "        vertical-align: middle;\n",
       "    }\n",
       "\n",
       "    .dataframe tbody tr th {\n",
       "        vertical-align: top;\n",
       "    }\n",
       "\n",
       "    .dataframe thead th {\n",
       "        text-align: right;\n",
       "    }\n",
       "</style>\n",
       "<table border=\"1\" class=\"dataframe\">\n",
       "  <thead>\n",
       "    <tr style=\"text-align: right;\">\n",
       "      <th></th>\n",
       "      <th>top_10_bowler_name</th>\n",
       "      <th>bowl_team_name</th>\n",
       "      <th>bowl_team_rating</th>\n",
       "    </tr>\n",
       "  </thead>\n",
       "  <tbody>\n",
       "    <tr>\n",
       "      <th>0</th>\n",
       "      <td>Trent Boult</td>\n",
       "      <td>NZ</td>\n",
       "      <td>737</td>\n",
       "    </tr>\n",
       "    <tr>\n",
       "      <th>1</th>\n",
       "      <td>Mujeeb Ur Rahman</td>\n",
       "      <td>AFG</td>\n",
       "      <td>708</td>\n",
       "    </tr>\n",
       "    <tr>\n",
       "      <th>2</th>\n",
       "      <td>Matt Henry</td>\n",
       "      <td>NZ</td>\n",
       "      <td>691</td>\n",
       "    </tr>\n",
       "    <tr>\n",
       "      <th>3</th>\n",
       "      <td>Jasprit Bumrah</td>\n",
       "      <td>IND</td>\n",
       "      <td>690</td>\n",
       "    </tr>\n",
       "    <tr>\n",
       "      <th>4</th>\n",
       "      <td>Mehedi Hasan</td>\n",
       "      <td>BAN</td>\n",
       "      <td>668</td>\n",
       "    </tr>\n",
       "  </tbody>\n",
       "</table>\n",
       "</div>"
      ],
      "text/plain": [
       "  top_10_bowler_name          bowl_team_name bowl_team_rating\n",
       "0        Trent Boult  NZ                                  737\n",
       "1   Mujeeb Ur Rahman                     AFG              708\n",
       "2         Matt Henry                      NZ              691\n",
       "3     Jasprit Bumrah                     IND              690\n",
       "4       Mehedi Hasan                     BAN              668"
      ]
     },
     "execution_count": 54,
     "metadata": {},
     "output_type": "execute_result"
    }
   ],
   "source": [
    "# creating dataframe\n",
    "bowler_dict = {\"top_10_bowler_name\":top_10_bowler_name,\"bowl_team_name\":bowl_team_name,\"bowl_team_rating\":bowl_team_rating}\n",
    "bowler_df = pd.DataFrame(bowler_dict)\n",
    "bowler_df.head()"
   ]
  },
  {
   "cell_type": "markdown",
   "metadata": {},
   "source": [
    "## 6.Write a python program to scrape cricket rankings from ‘www.icc-cricket.com’. You have to scrape:\n",
    "i) Top 10 ODI teams in women’s cricket along with the records for matches, points \n",
    "and rating. <br>\n",
    "ii) Top 10 women’s ODI players along with the records of their team and rating. <br>\n",
    "iii)Top 10 women’s ODI all-rounder along with the records of their team and rating.<br>"
   ]
  },
  {
   "cell_type": "markdown",
   "metadata": {},
   "source": [
    "#### i) Top 10 ODI teams in women’s cricket along with the records for matches, points and rating."
   ]
  },
  {
   "cell_type": "code",
   "execution_count": 57,
   "metadata": {},
   "outputs": [],
   "source": [
    " # loading page \n",
    "\n",
    "Woman_ODI_page = requests.get(\"https://www.icc-cricket.com/rankings/womens/team-rankings/odi\")\n",
    "\n",
    "# passing the loaded page to beautiful and parser engien \n",
    "soup_ODI_woman = BeautifulSoup(Woman_ODI_page.text,\"html5lib\")    "
   ]
  },
  {
   "cell_type": "markdown",
   "metadata": {},
   "source": [
    "## Teams"
   ]
  },
  {
   "cell_type": "code",
   "execution_count": 58,
   "metadata": {
    "scrolled": true
   },
   "outputs": [
    {
     "data": {
      "text/plain": [
       "['Australia',\n",
       " 'South Africa',\n",
       " 'England',\n",
       " 'India',\n",
       " 'New Zealand',\n",
       " 'West Indies',\n",
       " 'Pakistan',\n",
       " 'Bangladesh',\n",
       " 'Sri Lanka',\n",
       " 'Ireland']"
      ]
     },
     "execution_count": 58,
     "metadata": {},
     "output_type": "execute_result"
    }
   ],
   "source": [
    "team = soup_ODI_woman.select(\".u-hide-phablet\") # selecting the class which contains the team name\n",
    "\n",
    "woman_team = [] # creating empty list\n",
    "\n",
    "# Running loop for extracting the team names\n",
    "for i in team:   \n",
    "    woman_team.append(i.text)\n",
    "\n",
    "# extracing the top 10 team, i have used sliced top 10 team because there are a few empty string as well. \n",
    "    \n",
    "woman_team= woman_team[:10]\n",
    "woman_team"
   ]
  },
  {
   "cell_type": "markdown",
   "metadata": {},
   "source": [
    "## team matches"
   ]
  },
  {
   "cell_type": "code",
   "execution_count": 59,
   "metadata": {},
   "outputs": [
    {
     "data": {
      "text/plain": [
       "['18', '24', '17', '20', '21', '12', '15', '5', '11', '2']"
      ]
     },
     "execution_count": 59,
     "metadata": {},
     "output_type": "execute_result"
    }
   ],
   "source": [
    "# first and rest of the macthes tags are different thus extracting it seprately \n",
    "first_team_matches = soup_ODI_woman.find(\"td\", class_= \"rankings-block__banner--matches\").text\n",
    "\n",
    "# extracting rest of the team's matches \n",
    "\n",
    "team_matches = soup_ODI_woman.select(\".table-body__cell.u-center-text\")\n",
    "\n",
    "Woman_teams_matches = [] # creating list \n",
    "\n",
    "for i in team_matches:\n",
    "    Woman_teams_matches.append(i.text)\n",
    "    \n",
    "\"\"\" saving matches into Matches variable, out Record_for_matches list is like 0 index is match count and 1 index is for point.\n",
    "\n",
    "            so i have sliced accoridnly \"\"\"\n",
    "\n",
    "woman_top_10_team = Woman_teams_matches[::2]\n",
    "woman_top_10_team.insert(0,first_team_matches)\n",
    "woman_top_10_team"
   ]
  },
  {
   "cell_type": "markdown",
   "metadata": {},
   "source": [
    "### Women team points"
   ]
  },
  {
   "cell_type": "code",
   "execution_count": 60,
   "metadata": {},
   "outputs": [
    {
     "data": {
      "text/plain": [
       "['2,955',\n",
       " '2,828',\n",
       " '1,993',\n",
       " '2,226',\n",
       " '1,947',\n",
       " '1,025',\n",
       " '1,101',\n",
       " '306',\n",
       " '519',\n",
       " '25']"
      ]
     },
     "execution_count": 60,
     "metadata": {},
     "output_type": "execute_result"
    }
   ],
   "source": [
    "# extracting first team points as it has different tag from other teams' point\n",
    "\n",
    "first_team_points = soup_ODI_woman.find(\"td\",class_ =\"rankings-block__banner--points\").text\n",
    "\n",
    "# rest of the teams' points from woman_teams_matches\n",
    "\n",
    "woman_team_points = Woman_teams_matches[1::2]\n",
    "woman_team_points.insert(0,first_team_points)\n",
    "woman_team_points"
   ]
  },
  {
   "cell_type": "markdown",
   "metadata": {},
   "source": [
    "### woman Team Ranting"
   ]
  },
  {
   "cell_type": "code",
   "execution_count": 61,
   "metadata": {},
   "outputs": [
    {
     "data": {
      "text/plain": [
       "['164', '118', '117', '111', '93', '85', '73', '61', '47', '13']"
      ]
     },
     "execution_count": 61,
     "metadata": {},
     "output_type": "execute_result"
    }
   ],
   "source": [
    "# taking out first team rating \n",
    "first_team_rating = soup_ODI_woman.find(\"td\",class_ =\"rankings-block__banner--rating\").text.replace(\"\\n\",\"\").strip()\n",
    "\n",
    "# extracting other teams' rating\n",
    "Rating = soup_ODI_woman.select(\".table-body__cell.u-text-right.rating\")\n",
    "\n",
    "woman_teams_rating = []\n",
    "for i in Rating:\n",
    "    woman_teams_rating.append(i.text)\n",
    "    \n",
    "woman_teams_rating.insert(0,first_team_rating)\n",
    "woman_teams_rating"
   ]
  },
  {
   "cell_type": "code",
   "execution_count": 62,
   "metadata": {},
   "outputs": [
    {
     "data": {
      "text/html": [
       "<div>\n",
       "<style scoped>\n",
       "    .dataframe tbody tr th:only-of-type {\n",
       "        vertical-align: middle;\n",
       "    }\n",
       "\n",
       "    .dataframe tbody tr th {\n",
       "        vertical-align: top;\n",
       "    }\n",
       "\n",
       "    .dataframe thead th {\n",
       "        text-align: right;\n",
       "    }\n",
       "</style>\n",
       "<table border=\"1\" class=\"dataframe\">\n",
       "  <thead>\n",
       "    <tr style=\"text-align: right;\">\n",
       "      <th></th>\n",
       "      <th>woman_team</th>\n",
       "      <th>woman_top_10_team</th>\n",
       "      <th>woman_team_points</th>\n",
       "      <th>woman_teams_rating</th>\n",
       "    </tr>\n",
       "  </thead>\n",
       "  <tbody>\n",
       "    <tr>\n",
       "      <th>0</th>\n",
       "      <td>Australia</td>\n",
       "      <td>18</td>\n",
       "      <td>2,955</td>\n",
       "      <td>164</td>\n",
       "    </tr>\n",
       "    <tr>\n",
       "      <th>1</th>\n",
       "      <td>South Africa</td>\n",
       "      <td>24</td>\n",
       "      <td>2,828</td>\n",
       "      <td>118</td>\n",
       "    </tr>\n",
       "    <tr>\n",
       "      <th>2</th>\n",
       "      <td>England</td>\n",
       "      <td>17</td>\n",
       "      <td>1,993</td>\n",
       "      <td>117</td>\n",
       "    </tr>\n",
       "    <tr>\n",
       "      <th>3</th>\n",
       "      <td>India</td>\n",
       "      <td>20</td>\n",
       "      <td>2,226</td>\n",
       "      <td>111</td>\n",
       "    </tr>\n",
       "    <tr>\n",
       "      <th>4</th>\n",
       "      <td>New Zealand</td>\n",
       "      <td>21</td>\n",
       "      <td>1,947</td>\n",
       "      <td>93</td>\n",
       "    </tr>\n",
       "  </tbody>\n",
       "</table>\n",
       "</div>"
      ],
      "text/plain": [
       "     woman_team woman_top_10_team woman_team_points woman_teams_rating\n",
       "0     Australia                18             2,955                164\n",
       "1  South Africa                24             2,828                118\n",
       "2       England                17             1,993                117\n",
       "3         India                20             2,226                111\n",
       "4   New Zealand                21             1,947                 93"
      ]
     },
     "execution_count": 62,
     "metadata": {},
     "output_type": "execute_result"
    }
   ],
   "source": [
    "# creating dataframe\n",
    "woman_team_dict = {\"woman_team\":woman_team,\"woman_top_10_team\":woman_top_10_team,\"woman_team_points\":woman_team_points,\"woman_teams_rating\":woman_teams_rating}\n",
    "woman_team_df = pd.DataFrame(woman_team_dict)\n",
    "woman_team_df.head()"
   ]
  },
  {
   "cell_type": "markdown",
   "metadata": {},
   "source": [
    "### ii) Top 10 women’s ODI players along with the records of their team and rating."
   ]
  },
  {
   "cell_type": "code",
   "execution_count": 63,
   "metadata": {},
   "outputs": [],
   "source": [
    "# Extracting the batsman info, saving url in a variable and making request to load the page\n",
    "url = \"https://www.icc-cricket.com/rankings/womens/player-rankings/odi/batting\"\n",
    "\n",
    "woman_bats_page = requests.get(url)\n",
    "\n",
    "# passing the woman_bats_page to beautiful soup and html parser\n",
    "\n",
    "woman_batsman_info = BeautifulSoup(woman_bats_page.text, \"lxml\")"
   ]
  },
  {
   "cell_type": "markdown",
   "metadata": {},
   "source": [
    "### Player name"
   ]
  },
  {
   "cell_type": "code",
   "execution_count": 64,
   "metadata": {},
   "outputs": [
    {
     "data": {
      "text/plain": [
       "['Tammy Beaumont',\n",
       " 'Lizelle Lee',\n",
       " 'Alyssa Healy',\n",
       " 'Stafanie Taylor',\n",
       " 'Meg Lanning',\n",
       " 'Amy Satterthwaite',\n",
       " 'Smriti Mandhana',\n",
       " 'Mithali Raj',\n",
       " 'Natalie Sciver',\n",
       " 'Laura Wolvaardt']"
      ]
     },
     "execution_count": 64,
     "metadata": {},
     "output_type": "execute_result"
    }
   ],
   "source": [
    "# extracting first player name\n",
    "first_batsman = woman_batsman_info.find(\"div\", class_= \"rankings-block__banner--name-large\").text\n",
    "\n",
    "# extracting rest all the\n",
    "\n",
    "batsman_name  = woman_batsman_info.select(\".table-body__cell.rankings-table__name.name\")\n",
    "\n",
    "woman_batsman_name = []\n",
    "for i in batsman_name:\n",
    "    woman_batsman_name.append(i.text.replace(\"\\n\",\"\"))\n",
    "    \n",
    "woman_batsman_name = woman_batsman_name[:9]\n",
    "woman_batsman_name.insert(0,first_batsman)\n",
    "woman_batsman_name"
   ]
  },
  {
   "cell_type": "markdown",
   "metadata": {},
   "source": [
    "\n",
    "### Woman team name"
   ]
  },
  {
   "cell_type": "code",
   "execution_count": 65,
   "metadata": {},
   "outputs": [
    {
     "data": {
      "text/plain": [
       "['ENG', 'SA', 'AUS', 'WI', 'AUS', 'NZ', 'IND', 'IND', 'ENG', 'SA']"
      ]
     },
     "execution_count": 65,
     "metadata": {},
     "output_type": "execute_result"
    }
   ],
   "source": [
    "# Extracting first player\n",
    "\n",
    "first_batsman_team = woman_batsman_info.find(\"div\", class_=\"rankings-block__banner--nationality\").text.replace(\"\\n\",\"\").strip()\n",
    "\n",
    "# extracting info of other teams.\n",
    "\n",
    "teams = woman_batsman_info.select(\".table-body__logo-text\")\n",
    "\n",
    "batsman_team  = []\n",
    "\n",
    "for i in teams:\n",
    "    batsman_team.append(i.text)\n",
    "\n",
    "batsman_team = batsman_team[:9]  \n",
    "batsman_team.insert(0,first_batsman_team)\n",
    "batsman_team"
   ]
  },
  {
   "cell_type": "markdown",
   "metadata": {},
   "source": [
    "### woman team Rating"
   ]
  },
  {
   "cell_type": "code",
   "execution_count": 66,
   "metadata": {},
   "outputs": [
    {
     "data": {
      "text/plain": [
       "['765', '758', '756', '746', '723', '715', '710', '709', '685', '683']"
      ]
     },
     "execution_count": 66,
     "metadata": {},
     "output_type": "execute_result"
    }
   ],
   "source": [
    "# Extracting first player rating\n",
    "first_batsman_rating = woman_batsman_info.find(\"div\",class_= \"rankings-block__banner--rating\").text \n",
    "\n",
    "# extracting other player rating \n",
    "rating = woman_batsman_info.select(\".table-body__cell.rating\")\n",
    "\n",
    "player_rating = []\n",
    "for i in rating:\n",
    "    player_rating.append(i.text)\n",
    "\n",
    "player_rating = player_rating[:9]\n",
    "player_rating.insert(0,first_batsman_rating)\n",
    "player_rating"
   ]
  },
  {
   "cell_type": "code",
   "execution_count": 67,
   "metadata": {},
   "outputs": [
    {
     "data": {
      "text/html": [
       "<div>\n",
       "<style scoped>\n",
       "    .dataframe tbody tr th:only-of-type {\n",
       "        vertical-align: middle;\n",
       "    }\n",
       "\n",
       "    .dataframe tbody tr th {\n",
       "        vertical-align: top;\n",
       "    }\n",
       "\n",
       "    .dataframe thead th {\n",
       "        text-align: right;\n",
       "    }\n",
       "</style>\n",
       "<table border=\"1\" class=\"dataframe\">\n",
       "  <thead>\n",
       "    <tr style=\"text-align: right;\">\n",
       "      <th></th>\n",
       "      <th>woman_batsman_name</th>\n",
       "      <th>batsman_team</th>\n",
       "      <th>player_rating</th>\n",
       "    </tr>\n",
       "  </thead>\n",
       "  <tbody>\n",
       "    <tr>\n",
       "      <th>0</th>\n",
       "      <td>Tammy Beaumont</td>\n",
       "      <td>ENG</td>\n",
       "      <td>765</td>\n",
       "    </tr>\n",
       "    <tr>\n",
       "      <th>1</th>\n",
       "      <td>Lizelle Lee</td>\n",
       "      <td>SA</td>\n",
       "      <td>758</td>\n",
       "    </tr>\n",
       "    <tr>\n",
       "      <th>2</th>\n",
       "      <td>Alyssa Healy</td>\n",
       "      <td>AUS</td>\n",
       "      <td>756</td>\n",
       "    </tr>\n",
       "    <tr>\n",
       "      <th>3</th>\n",
       "      <td>Stafanie Taylor</td>\n",
       "      <td>WI</td>\n",
       "      <td>746</td>\n",
       "    </tr>\n",
       "    <tr>\n",
       "      <th>4</th>\n",
       "      <td>Meg Lanning</td>\n",
       "      <td>AUS</td>\n",
       "      <td>723</td>\n",
       "    </tr>\n",
       "  </tbody>\n",
       "</table>\n",
       "</div>"
      ],
      "text/plain": [
       "  woman_batsman_name batsman_team player_rating\n",
       "0     Tammy Beaumont          ENG           765\n",
       "1        Lizelle Lee           SA           758\n",
       "2       Alyssa Healy          AUS           756\n",
       "3    Stafanie Taylor           WI           746\n",
       "4        Meg Lanning          AUS           723"
      ]
     },
     "execution_count": 67,
     "metadata": {},
     "output_type": "execute_result"
    }
   ],
   "source": [
    "# creating dataframe\n",
    "woman_batsman_dict = {\"woman_batsman_name\":woman_batsman_name,\"batsman_team\":batsman_team,\"player_rating\":player_rating}\n",
    "woman_batsman_df = pd.DataFrame(woman_batsman_dict)\n",
    "woman_batsman_df.head()"
   ]
  },
  {
   "cell_type": "markdown",
   "metadata": {},
   "source": [
    "### iii)Top 10 women’s ODI all-rounder along with the records of their team and rating."
   ]
  },
  {
   "cell_type": "code",
   "execution_count": 68,
   "metadata": {},
   "outputs": [],
   "source": [
    "# Extracting the batsman info, saving url in a variable and making request to load the page\n",
    "url = \"https://www.icc-cricket.com/rankings/womens/player-rankings/odi/all-rounder\"\n",
    "\n",
    "woman_all_page = requests.get(url)\n",
    "\n",
    "# passing the woman_bats_page to beautiful soup and html parser\n",
    "\n",
    "woman_allrounder_info = BeautifulSoup(woman_all_page.text, \"lxml\")"
   ]
  },
  {
   "cell_type": "markdown",
   "metadata": {},
   "source": [
    "#### Player Name"
   ]
  },
  {
   "cell_type": "code",
   "execution_count": 69,
   "metadata": {},
   "outputs": [
    {
     "data": {
      "text/plain": [
       "['Marizanne Kapp',\n",
       " 'Ellyse Perry',\n",
       " 'Stafanie Taylor',\n",
       " 'Natalie Sciver',\n",
       " 'Deepti Sharma',\n",
       " 'Jess Jonassen',\n",
       " 'Ashleigh Gardner',\n",
       " 'Dane van Niekerk',\n",
       " 'Sophie Devine',\n",
       " 'Amelia Kerr']"
      ]
     },
     "execution_count": 69,
     "metadata": {},
     "output_type": "execute_result"
    }
   ],
   "source": [
    "# extracting first player name\n",
    "first_allrounder = woman_allrounder_info.find(\"div\", class_= \"rankings-block__banner--name-large\").text\n",
    "\n",
    "# extracting rest all the\n",
    "\n",
    "Allrounder_name  = woman_allrounder_info.select(\".table-body__cell.rankings-table__name.name\")\n",
    "\n",
    "woman_allrounder_name = []\n",
    "\n",
    "for i in Allrounder_name:\n",
    "    woman_allrounder_name.append(i.text.replace(\"\\n\",\"\"))\n",
    "    \n",
    "woman_allrounder_name = woman_allrounder_name[:9]\n",
    "woman_allrounder_name.insert(0,first_allrounder)\n",
    "woman_allrounder_name"
   ]
  },
  {
   "cell_type": "markdown",
   "metadata": {},
   "source": [
    "### Team name"
   ]
  },
  {
   "cell_type": "code",
   "execution_count": 70,
   "metadata": {},
   "outputs": [
    {
     "data": {
      "text/plain": [
       "['SA', 'AUS', 'WI', 'ENG', 'IND', 'AUS', 'AUS', 'SA', 'NZ', 'NZ']"
      ]
     },
     "execution_count": 70,
     "metadata": {},
     "output_type": "execute_result"
    }
   ],
   "source": [
    "# Extracting first player\n",
    "\n",
    "first_allrounder_team = woman_allrounder_info.find(\"div\", class_=\"rankings-block__banner--nationality\").text.replace(\"\\n\",\"\").strip()\n",
    "\n",
    "# extracting info of other teams.\n",
    "\n",
    "allrounder_team = woman_allrounder_info.select(\".table-body__logo-text\")\n",
    "\n",
    "allrounder_team_name  = []\n",
    "\n",
    "for i in allrounder_team:\n",
    "    allrounder_team_name.append(i.text)\n",
    "\n",
    "allrounder_team_name = allrounder_team_name[:9]  \n",
    "allrounder_team_name.insert(0,first_allrounder_team)\n",
    "allrounder_team_name"
   ]
  },
  {
   "cell_type": "markdown",
   "metadata": {},
   "source": [
    "### Player Rating"
   ]
  },
  {
   "cell_type": "code",
   "execution_count": 71,
   "metadata": {
    "scrolled": true
   },
   "outputs": [
    {
     "data": {
      "text/plain": [
       "['418', '418', '410', '349', '343', '307', '252', '243', '242', '236']"
      ]
     },
     "execution_count": 71,
     "metadata": {},
     "output_type": "execute_result"
    }
   ],
   "source": [
    "# Extracting first player rating\n",
    "first_allrounder_rating = woman_allrounder_info.find(\"div\",class_= \"rankings-block__banner--rating\").text \n",
    "\n",
    "# extracting other player rating \n",
    "allrounder_rating = woman_allrounder_info.select(\".table-body__cell.rating\")\n",
    "\n",
    "allrounder_player_rating = []\n",
    "for i in allrounder_rating:\n",
    "    allrounder_player_rating.append(i.text)\n",
    "\n",
    "allrounder_player_rating = allrounder_player_rating[:9]\n",
    "allrounder_player_rating.insert(0,first_allrounder_rating)\n",
    "allrounder_player_rating"
   ]
  },
  {
   "cell_type": "code",
   "execution_count": 72,
   "metadata": {},
   "outputs": [
    {
     "data": {
      "text/html": [
       "<div>\n",
       "<style scoped>\n",
       "    .dataframe tbody tr th:only-of-type {\n",
       "        vertical-align: middle;\n",
       "    }\n",
       "\n",
       "    .dataframe tbody tr th {\n",
       "        vertical-align: top;\n",
       "    }\n",
       "\n",
       "    .dataframe thead th {\n",
       "        text-align: right;\n",
       "    }\n",
       "</style>\n",
       "<table border=\"1\" class=\"dataframe\">\n",
       "  <thead>\n",
       "    <tr style=\"text-align: right;\">\n",
       "      <th></th>\n",
       "      <th>woman_allrounder_name</th>\n",
       "      <th>allrounder_team_name</th>\n",
       "      <th>allrounder_player_rating</th>\n",
       "    </tr>\n",
       "  </thead>\n",
       "  <tbody>\n",
       "    <tr>\n",
       "      <th>0</th>\n",
       "      <td>Marizanne Kapp</td>\n",
       "      <td>SA</td>\n",
       "      <td>418</td>\n",
       "    </tr>\n",
       "    <tr>\n",
       "      <th>1</th>\n",
       "      <td>Ellyse Perry</td>\n",
       "      <td>AUS</td>\n",
       "      <td>418</td>\n",
       "    </tr>\n",
       "    <tr>\n",
       "      <th>2</th>\n",
       "      <td>Stafanie Taylor</td>\n",
       "      <td>WI</td>\n",
       "      <td>410</td>\n",
       "    </tr>\n",
       "    <tr>\n",
       "      <th>3</th>\n",
       "      <td>Natalie Sciver</td>\n",
       "      <td>ENG</td>\n",
       "      <td>349</td>\n",
       "    </tr>\n",
       "    <tr>\n",
       "      <th>4</th>\n",
       "      <td>Deepti Sharma</td>\n",
       "      <td>IND</td>\n",
       "      <td>343</td>\n",
       "    </tr>\n",
       "  </tbody>\n",
       "</table>\n",
       "</div>"
      ],
      "text/plain": [
       "  woman_allrounder_name allrounder_team_name allrounder_player_rating\n",
       "0        Marizanne Kapp                   SA                      418\n",
       "1          Ellyse Perry                  AUS                      418\n",
       "2       Stafanie Taylor                   WI                      410\n",
       "3        Natalie Sciver                  ENG                      349\n",
       "4         Deepti Sharma                  IND                      343"
      ]
     },
     "execution_count": 72,
     "metadata": {},
     "output_type": "execute_result"
    }
   ],
   "source": [
    "# creating dataframe\n",
    "allrounder_dict = {\"woman_allrounder_name\":woman_allrounder_name,\"allrounder_team_name\":allrounder_team_name,\"allrounder_player_rating\":allrounder_player_rating}\n",
    "allrounder_df = pd.DataFrame(allrounder_dict)\n",
    "allrounder_df.head()"
   ]
  },
  {
   "cell_type": "markdown",
   "metadata": {},
   "source": [
    "### 7. Write a python program to extract information about the local weather from the National Weather Service website of USA, https://www.weather.gov/ for the city, San Francisco. You need to extract data about 7 day extended forecast display for the city. The data should include period, short description, temperature and description.\n"
   ]
  },
  {
   "cell_type": "code",
   "execution_count": 73,
   "metadata": {},
   "outputs": [
    {
     "data": {
      "text/html": [
       "<div>\n",
       "<style scoped>\n",
       "    .dataframe tbody tr th:only-of-type {\n",
       "        vertical-align: middle;\n",
       "    }\n",
       "\n",
       "    .dataframe tbody tr th {\n",
       "        vertical-align: top;\n",
       "    }\n",
       "\n",
       "    .dataframe thead th {\n",
       "        text-align: right;\n",
       "    }\n",
       "</style>\n",
       "<table border=\"1\" class=\"dataframe\">\n",
       "  <thead>\n",
       "    <tr style=\"text-align: right;\">\n",
       "      <th></th>\n",
       "      <th>Days</th>\n",
       "      <th>temperature_description_updated</th>\n",
       "      <th>short_description</th>\n",
       "    </tr>\n",
       "  </thead>\n",
       "  <tbody>\n",
       "    <tr>\n",
       "      <th>0</th>\n",
       "      <td>Today</td>\n",
       "      <td>with a high near 71. West wind 7 to 15 mph, wi...</td>\n",
       "      <td>Sunny,</td>\n",
       "    </tr>\n",
       "    <tr>\n",
       "      <th>1</th>\n",
       "      <td>Tonight</td>\n",
       "      <td>with a low around 52. West wind 6 to 14 mph, w...</td>\n",
       "      <td>Clear,</td>\n",
       "    </tr>\n",
       "    <tr>\n",
       "      <th>2</th>\n",
       "      <td>Monday</td>\n",
       "      <td>with a high near 77. Light west northwest wind...</td>\n",
       "      <td>Sunny,</td>\n",
       "    </tr>\n",
       "    <tr>\n",
       "      <th>3</th>\n",
       "      <td>Monday Night</td>\n",
       "      <td>clear, with a low around 52. West wind 5 to 14...</td>\n",
       "      <td>Mostly</td>\n",
       "    </tr>\n",
       "    <tr>\n",
       "      <th>4</th>\n",
       "      <td>Tuesday</td>\n",
       "      <td>with a high near 75. Light west northwest wind...</td>\n",
       "      <td>Sunny,</td>\n",
       "    </tr>\n",
       "  </tbody>\n",
       "</table>\n",
       "</div>"
      ],
      "text/plain": [
       "           Days                    temperature_description_updated  \\\n",
       "0         Today  with a high near 71. West wind 7 to 15 mph, wi...   \n",
       "1       Tonight  with a low around 52. West wind 6 to 14 mph, w...   \n",
       "2        Monday  with a high near 77. Light west northwest wind...   \n",
       "3  Monday Night  clear, with a low around 52. West wind 5 to 14...   \n",
       "4       Tuesday  with a high near 75. Light west northwest wind...   \n",
       "\n",
       "  short_description  \n",
       "0            Sunny,  \n",
       "1            Clear,  \n",
       "2            Sunny,  \n",
       "3            Mostly  \n",
       "4            Sunny,  "
      ]
     },
     "execution_count": 73,
     "metadata": {},
     "output_type": "execute_result"
    }
   ],
   "source": [
    "# extracting forecast information for San francisco city\n",
    "url = \"https://forecast.weather.gov/MapClick.php?lat=37.777120000000025&lon=-122.41963999999996#.YJbYuofivIV\"\n",
    "\n",
    "# making request and loading page\n",
    "forecast_page = requests.get(url)\n",
    "\n",
    "# beautifulsoup instance\n",
    "forecast_info = BeautifulSoup(forecast_page.text, \"lxml\")\n",
    "\n",
    "\n",
    "# Class selection where period are written in HTML\n",
    "forecast_day = forecast_info.select(\".col-sm-2.forecast-label\")\n",
    "\n",
    "# running loop for extracting period \n",
    "Days = []\n",
    "for i in forecast_day:\n",
    "    Days.append(i.text)\n",
    "Days\n",
    "\n",
    "# extracting detailed forecast\n",
    "extended_forecast = forecast_info.select(\".col-sm-10.forecast-text\")\n",
    "\n",
    "# running loop for extracting forecast details\n",
    "forecast = []\n",
    "for i in extended_forecast:\n",
    "    forecast.append(i.text.split()) # with split it become nesting list,because i need short description seperately. \n",
    "\n",
    "# saving short_description and temperature_description in below list\n",
    "short_description =[]\n",
    "temperature_description = []\n",
    "for i in forecast:\n",
    "    short_description.append(i[0]) # extracting short description \n",
    "    temperature_description.append(i[1::]) # extracting short temperature and description seprately \n",
    "\n",
    "# converting nexting list into single list by joining all element in one sentence \n",
    "temperature_description_updated = []\n",
    "for i in temperature_description:\n",
    "    temperature_description_updated.append(\" \".join(i))\n",
    "\n",
    "temperature_description_updated\n",
    "\n",
    "d = {\"Days\":Days,\"temperature_description_updated\":temperature_description_updated,\"short_description\":short_description}\n",
    "import pandas as pd\n",
    "df = pd.DataFrame(d)\n",
    "\n",
    "df.head()"
   ]
  },
  {
   "cell_type": "code",
   "execution_count": null,
   "metadata": {},
   "outputs": [],
   "source": []
  }
 ],
 "metadata": {
  "kernelspec": {
   "display_name": "Python 3",
   "language": "python",
   "name": "python3"
  },
  "language_info": {
   "codemirror_mode": {
    "name": "ipython",
    "version": 3
   },
   "file_extension": ".py",
   "mimetype": "text/x-python",
   "name": "python",
   "nbconvert_exporter": "python",
   "pygments_lexer": "ipython3",
   "version": "3.7.3"
  }
 },
 "nbformat": 4,
 "nbformat_minor": 2
}
