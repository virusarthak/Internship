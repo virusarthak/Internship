{
 "cells": [
  {
   "cell_type": "markdown",
   "id": "809f86a9",
   "metadata": {},
   "source": [
    "# Python Worksheet 1 "
   ]
  },
  {
   "cell_type": "code",
   "execution_count": 1,
   "id": "c478c2b2",
   "metadata": {},
   "outputs": [
    {
     "data": {
      "text/plain": [
       "5"
      ]
     },
     "execution_count": 1,
     "metadata": {},
     "output_type": "execute_result"
    }
   ],
   "source": [
    "a = 5%25\n",
    "a"
   ]
  },
  {
   "cell_type": "code",
   "execution_count": 2,
   "id": "f5481dc7",
   "metadata": {},
   "outputs": [
    {
     "data": {
      "text/plain": [
       "0.6666666666666666"
      ]
     },
     "execution_count": 2,
     "metadata": {},
     "output_type": "execute_result"
    }
   ],
   "source": [
    "2/3"
   ]
  },
  {
   "cell_type": "code",
   "execution_count": 3,
   "id": "091fb023",
   "metadata": {},
   "outputs": [
    {
     "data": {
      "text/plain": [
       "24"
      ]
     },
     "execution_count": 3,
     "metadata": {},
     "output_type": "execute_result"
    }
   ],
   "source": [
    "6<<2"
   ]
  },
  {
   "cell_type": "code",
   "execution_count": 4,
   "id": "35a01737",
   "metadata": {},
   "outputs": [
    {
     "data": {
      "text/plain": [
       "2"
      ]
     },
     "execution_count": 4,
     "metadata": {},
     "output_type": "execute_result"
    }
   ],
   "source": [
    "6&2"
   ]
  },
  {
   "cell_type": "code",
   "execution_count": 5,
   "id": "bba49e42",
   "metadata": {},
   "outputs": [
    {
     "data": {
      "text/plain": [
       "6"
      ]
     },
     "execution_count": 5,
     "metadata": {},
     "output_type": "execute_result"
    }
   ],
   "source": [
    "6|2"
   ]
  },
  {
   "cell_type": "markdown",
   "id": "0b0e0fd1",
   "metadata": {},
   "source": [
    "The finally keyword denotes \n",
    "B) It encloses the lines of code which will be executed if any error occurs while executing the lines of code in\n",
    "the try block."
   ]
  },
  {
   "cell_type": "markdown",
   "id": "fcf81349",
   "metadata": {},
   "source": [
    "The raise keyword is used for in python\n",
    "A) It is used to raise an exception. "
   ]
  },
  {
   "cell_type": "markdown",
   "id": "4bc491dc",
   "metadata": {},
   "source": [
    "The common use case of yield keyword in python\n",
    "C) in defining a generator"
   ]
  },
  {
   "cell_type": "markdown",
   "id": "ad1baeaf",
   "metadata": {},
   "source": [
    "Which of the following are the valid variable names\n",
    "A) _abc   C) abc2"
   ]
  },
  {
   "cell_type": "markdown",
   "id": "912f47a5",
   "metadata": {},
   "source": [
    "Which of the following are the keywords in python\n",
    "A) yield  B) raise   \n"
   ]
  },
  {
   "cell_type": "code",
   "execution_count": 6,
   "id": "c4a2e0fe",
   "metadata": {},
   "outputs": [
    {
     "name": "stdout",
     "output_type": "stream",
     "text": [
      "Insert a no: 5\n",
      "The factorial is 120\n"
     ]
    }
   ],
   "source": [
    "## python program to find the factorial of a number\n",
    "a = int(input(\"Insert a no: \")) \n",
    "f = 1 \n",
    "for i in range(1,a+1): \n",
    "    f = f * i \n",
    " \n",
    "print(f'The factorial is {f}')"
   ]
  },
  {
   "cell_type": "code",
   "execution_count": 7,
   "id": "d2ea4700",
   "metadata": {},
   "outputs": [
    {
     "name": "stdout",
     "output_type": "stream",
     "text": [
      "enter the number56\n",
      "56 is composite\n"
     ]
    }
   ],
   "source": [
    "## python program to find whether a number is prime or composite\n",
    "a=int(input('enter the number')) \n",
    "if True: \n",
    "    b=list(range(2,a)) \n",
    "    for i in b: \n",
    "        if a%i==0: \n",
    "            print(a,'is composite') \n",
    "        else: \n",
    "            print(a,'is a prime number') \n",
    "        break"
   ]
  },
  {
   "cell_type": "code",
   "execution_count": 8,
   "id": "89cb2bd5",
   "metadata": {},
   "outputs": [
    {
     "name": "stdout",
     "output_type": "stream",
     "text": [
      "illil\n",
      "Not a Palindrome\n"
     ]
    }
   ],
   "source": [
    "## python program to check whether a given string is palindrome or not\n",
    "string = input().lower()\n",
    "if string==string[::-1]:\n",
    "  print(\"It is Palindrome\")\n",
    "else:\n",
    "  print(\"Not a Palindrome\")"
   ]
  },
  {
   "cell_type": "code",
   "execution_count": 9,
   "id": "ea6d3a4e",
   "metadata": {},
   "outputs": [
    {
     "name": "stdout",
     "output_type": "stream",
     "text": [
      "Enter base: 10\n",
      "Enter height: 10\n",
      "Hypotenuse = 14.142135623730951\n"
     ]
    }
   ],
   "source": [
    "## Python program to get the third side of right-angled triangle from two given sides\n",
    "import math\n",
    "a=float(input(\"Enter base: \"))\n",
    "b=float(input(\"Enter height: \"))\n",
    "c=math.sqrt(a ** 2 + b ** 2)\n",
    "print(\"Hypotenuse =\", c)"
   ]
  },
  {
   "cell_type": "code",
   "execution_count": 11,
   "id": "8763eb99",
   "metadata": {},
   "outputs": [
    {
     "name": "stdout",
     "output_type": "stream",
     "text": [
      "Enter the string: qqwwedf\n",
      "{'q': 2, 'w': 2, 'e': 1, 'd': 1, 'f': 1}\n"
     ]
    }
   ],
   "source": [
    "## Python program to print the frequency of each of the characters present in a given string.\n",
    "string = input (\"Enter the string: \")\n",
    "a = dict()\n",
    "for b in string:\n",
    "    if b in a:\n",
    "        a[b] = a[b] + 1\n",
    "    else:\n",
    "        a[b] = 1\n",
    "print(a)"
   ]
  },
  {
   "cell_type": "code",
   "execution_count": null,
   "id": "21de203c",
   "metadata": {},
   "outputs": [],
   "source": []
  },
  {
   "cell_type": "code",
   "execution_count": null,
   "id": "b8c26ec9",
   "metadata": {},
   "outputs": [],
   "source": []
  }
 ],
 "metadata": {
  "kernelspec": {
   "display_name": "Python 3",
   "language": "python",
   "name": "python3"
  },
  "language_info": {
   "codemirror_mode": {
    "name": "ipython",
    "version": 3
   },
   "file_extension": ".py",
   "mimetype": "text/x-python",
   "name": "python",
   "nbconvert_exporter": "python",
   "pygments_lexer": "ipython3",
   "version": "3.8.8"
  }
 },
 "nbformat": 4,
 "nbformat_minor": 5
}
